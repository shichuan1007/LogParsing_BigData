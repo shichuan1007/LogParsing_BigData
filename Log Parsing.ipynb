{
 "cells": [
  {
   "cell_type": "markdown",
   "metadata": {},
   "source": []
  },
  {
   "cell_type": "markdown",
   "metadata": {},
   "source": [
    "Looking for patterns in web browsing:\n",
    "\n",
    "http://archive.ics.uci.edu/ml/datasets/msnbc.com+anonymous+web+data (Links to an external site.)Links to an external site.\n",
    "\n",
    "Question 1:\n",
    "What % of visitors visited a page of type 12 and page of type 17 in the same session?\n",
    "\n",
    "Question 2:\n",
    "What % of visitors visited a page of type 12 AFTER page a page of type 17 in the same session (the two page views do not need to be consecutive)?"
   ]
  },
  {
   "cell_type": "code",
   "execution_count": 203,
   "metadata": {},
   "outputs": [
    {
     "data": {
      "text/plain": [
       "989818"
      ]
     },
     "execution_count": 203,
     "metadata": {},
     "output_type": "execute_result"
    }
   ],
   "source": [
    "with open (path ,\"r\") as visitors:\n",
    "    data = [line.strip() for line in visitors]\n",
    "visit_data = data[7:]\n",
    "ttl_visit = len(visit_data)\n",
    "ttl_visit"
   ]
  },
  {
   "cell_type": "code",
   "execution_count": 279,
   "metadata": {},
   "outputs": [
    {
     "name": "stdout",
     "output_type": "stream",
     "text": [
      "2569\n",
      "0.2595% of visitors visited a page of type 12 and page of type 17 in the same session\n"
     ]
    }
   ],
   "source": [
    "# Question 1\n",
    "visitor_12_and_17 = [visit for visit in visit_data if set(visit.split())>=set(['12', '17'])]\n",
    "num_visitor_12_and_17 = len(visitor_12_and_17)\n",
    "print(num_visitor_12_and_17)\n",
    "q1 = round((num_visitor_12_and_17/ttl_visit)*100, 4)\n",
    "print(\"{}% of visitors visited a page of type 12 and page of type 17 in the same session\".format(q1))"
   ]
  },
  {
   "cell_type": "code",
   "execution_count": 280,
   "metadata": {},
   "outputs": [
    {
     "name": "stdout",
     "output_type": "stream",
     "text": [
      "1581\n",
      "0.1597% visitors visited a page of type 12 AFTER page a page of type 17 in the same session\n"
     ]
    }
   ],
   "source": [
    "# Question 2\n",
    "i = 0\n",
    "visitor_12_after_17 = []\n",
    "for visit in visitor_12_and_17:\n",
    "    for index, page in enumerate (visit.split()): \n",
    "        if page == '17':    \n",
    "            for page_2 in visit.split()[index:]:\n",
    "                if page_2 =='12':\n",
    "                    i=i+1\n",
    "                    visitor_12_after_17.append(visit)\n",
    "                    break\n",
    "            break\n",
    "print(i)\n",
    "q2 = round(i/ttl_visit*100, 4)\n",
    "print(\"{}% visitors visited a page of type 12 AFTER page a page of type 17 in the same session\".format(q2))"
   ]
  }
 ],
 "metadata": {
  "kernelspec": {
   "display_name": "Python 3",
   "language": "python",
   "name": "python3"
  },
  "language_info": {
   "codemirror_mode": {
    "name": "ipython",
    "version": 3
   },
   "file_extension": ".py",
   "mimetype": "text/x-python",
   "name": "python",
   "nbconvert_exporter": "python",
   "pygments_lexer": "ipython3",
   "version": "3.6.1"
  }
 },
 "nbformat": 4,
 "nbformat_minor": 2
}
